{
 "cells": [
  {
   "cell_type": "code",
   "execution_count": 153,
   "metadata": {},
   "outputs": [],
   "source": [
    "#import the nitty gritty\n",
    "import pandas as pd\n",
    "from matplotlib import pyplot as plt"
   ]
  },
  {
   "cell_type": "code",
   "execution_count": 155,
   "metadata": {},
   "outputs": [
    {
     "name": "stderr",
     "output_type": "stream",
     "text": [
      "b'Skipping line 52431: expected 8 fields, saw 9\\n'\n",
      "b'Skipping line 131201: expected 8 fields, saw 9\\n'\n"
     ]
    },
    {
     "data": {
      "text/html": [
       "<div>\n",
       "<style scoped>\n",
       "    .dataframe tbody tr th:only-of-type {\n",
       "        vertical-align: middle;\n",
       "    }\n",
       "\n",
       "    .dataframe tbody tr th {\n",
       "        vertical-align: top;\n",
       "    }\n",
       "\n",
       "    .dataframe thead th {\n",
       "        text-align: right;\n",
       "    }\n",
       "</style>\n",
       "<table border=\"1\" class=\"dataframe\">\n",
       "  <thead>\n",
       "    <tr style=\"text-align: right;\">\n",
       "      <th></th>\n",
       "      <th>loan_status</th>\n",
       "      <th>loan_amnt</th>\n",
       "      <th>int_rate</th>\n",
       "      <th>grade</th>\n",
       "      <th>emp_length</th>\n",
       "      <th>home_ownership</th>\n",
       "      <th>annual_inc</th>\n",
       "      <th>term</th>\n",
       "    </tr>\n",
       "  </thead>\n",
       "  <tbody>\n",
       "    <tr>\n",
       "      <th>0</th>\n",
       "      <td>Current</td>\n",
       "      <td>2500</td>\n",
       "      <td>13.56</td>\n",
       "      <td>C</td>\n",
       "      <td>10+ years</td>\n",
       "      <td>RENT</td>\n",
       "      <td>55000</td>\n",
       "      <td>36 months</td>\n",
       "    </tr>\n",
       "    <tr>\n",
       "      <th>1</th>\n",
       "      <td>Current</td>\n",
       "      <td>30000</td>\n",
       "      <td>18.94</td>\n",
       "      <td>D</td>\n",
       "      <td>10+ years</td>\n",
       "      <td>MORTGAGE</td>\n",
       "      <td>90000</td>\n",
       "      <td>60 months</td>\n",
       "    </tr>\n",
       "    <tr>\n",
       "      <th>2</th>\n",
       "      <td>Current</td>\n",
       "      <td>5000</td>\n",
       "      <td>17.97</td>\n",
       "      <td>D</td>\n",
       "      <td>6 years</td>\n",
       "      <td>MORTGAGE</td>\n",
       "      <td>59280</td>\n",
       "      <td>36 months</td>\n",
       "    </tr>\n",
       "    <tr>\n",
       "      <th>3</th>\n",
       "      <td>Current</td>\n",
       "      <td>4000</td>\n",
       "      <td>18.94</td>\n",
       "      <td>D</td>\n",
       "      <td>10+ years</td>\n",
       "      <td>MORTGAGE</td>\n",
       "      <td>92000</td>\n",
       "      <td>36 months</td>\n",
       "    </tr>\n",
       "    <tr>\n",
       "      <th>4</th>\n",
       "      <td>Current</td>\n",
       "      <td>30000</td>\n",
       "      <td>16.14</td>\n",
       "      <td>C</td>\n",
       "      <td>10+ years</td>\n",
       "      <td>MORTGAGE</td>\n",
       "      <td>57250</td>\n",
       "      <td>60 months</td>\n",
       "    </tr>\n",
       "  </tbody>\n",
       "</table>\n",
       "</div>"
      ],
      "text/plain": [
       "  loan_status  loan_amnt  int_rate grade emp_length home_ownership annual_inc  \\\n",
       "0     Current       2500     13.56     C  10+ years           RENT      55000   \n",
       "1     Current      30000     18.94     D  10+ years       MORTGAGE      90000   \n",
       "2     Current       5000     17.97     D    6 years       MORTGAGE      59280   \n",
       "3     Current       4000     18.94     D  10+ years       MORTGAGE      92000   \n",
       "4     Current      30000     16.14     C  10+ years       MORTGAGE      57250   \n",
       "\n",
       "         term  \n",
       "0   36 months  \n",
       "1   60 months  \n",
       "2   36 months  \n",
       "3   36 months  \n",
       "4   60 months  "
      ]
     },
     "execution_count": 155,
     "metadata": {},
     "output_type": "execute_result"
    }
   ],
   "source": [
    "# read the csv file and store into a variable\n",
    "data = pd.read_csv(\"data.csv\",error_bad_lines=False)\n",
    "# Lets take a look at the first 5 lines of the data\n",
    "data.head()"
   ]
  },
  {
   "cell_type": "code",
   "execution_count": null,
   "metadata": {},
   "outputs": [],
   "source": [
    "# OK, so nothing seems worong atm, lets check for empty value\n",
    "data.isnull()"
   ]
  },
  {
   "cell_type": "code",
   "execution_count": null,
   "metadata": {},
   "outputs": [],
   "source": [
    "# awesome, since there are no missing data, means we dont have to deal with empty cells\n",
    "# lets take a look at the whole data\n",
    "data"
   ]
  },
  {
   "cell_type": "code",
   "execution_count": null,
   "metadata": {},
   "outputs": [],
   "source": [
    "# notice that there are several columns that can be replaced with integers only e.g. emp_length and term, lets do that\n",
    "def parse_term(row):\n",
    "    return row.split(\" \")[1]\n",
    "\n",
    "def parse_emp_length(row):\n",
    "    row_length = len(row.split(\" \"))\n",
    "    if(row_length == 2):\n",
    "        return row.split(\" \")[0]\n",
    "    elif row_length == 3:\n",
    "        return \"\".join(row.split(\" \")[0:2:1])\n",
    "    \n",
    "\n",
    "data['emp_length'] = data.apply(lambda row: parse_emp_length(row.emp_length), axis=1)\n",
    "data['term'] = data.apply(lambda row: parse_term(row.term), axis=1)\n",
    "# lets see the result\n",
    "data"
   ]
  },
  {
   "cell_type": "code",
   "execution_count": null,
   "metadata": {},
   "outputs": [],
   "source": [
    "# lets take a look at the processed data data, notice the column \"emp_length\", still has a lot of unstandardized data like \"10+\" and \"<1\"\n",
    "# lets clean them up\n",
    "\n",
    "# 1. make a function that accepts a row, and return a cleaned - more standardized data\n",
    "# here we categorize the data into <5, 5, and >5, way more easier to read!\n",
    "def clean_emp_length(row):\n",
    "    if row == \"10+\":\n",
    "        return \">5\"\n",
    "    elif row == \"<1\":\n",
    "        return \"<5\"\n",
    "    elif int(row) == 5:\n",
    "        return \"5\"\n",
    "    elif int(row) < 5:\n",
    "        return \"<5\"\n",
    "    elif int(row) > 5:\n",
    "        return \">5\"\n",
    "\n",
    "# 2. Lets apply the function to the data\n",
    "data['emp_length'] = data.apply(lambda row: clean_emp_length(row.emp_length), axis=1)\n",
    "# lets see the result\n",
    "data"
   ]
  },
  {
   "cell_type": "code",
   "execution_count": null,
   "metadata": {},
   "outputs": [],
   "source": []
  },
  {
   "cell_type": "code",
   "execution_count": null,
   "metadata": {},
   "outputs": [],
   "source": []
  }
 ],
 "metadata": {
  "kernelspec": {
   "display_name": "Python 3",
   "language": "python",
   "name": "python3"
  },
  "language_info": {
   "codemirror_mode": {
    "name": "ipython",
    "version": 3
   },
   "file_extension": ".py",
   "mimetype": "text/x-python",
   "name": "python",
   "nbconvert_exporter": "python",
   "pygments_lexer": "ipython3",
   "version": "3.8.5"
  }
 },
 "nbformat": 4,
 "nbformat_minor": 4
}
